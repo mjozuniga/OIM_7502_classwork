{
 "cells": [
  {
   "cell_type": "markdown",
   "id": "51c8cd47-ae58-439c-a07f-97846dd19383",
   "metadata": {},
   "source": [
    "EDA and Linear Regression\n",
    "Using techniques discussed in class, download the data file below and complete the following analyses. in a Jupyter Notebook. Once completed save your file and push it to your Github repository. Submit a link to the notebook as the submission for this assignment.\n",
    "\n",
    "Data FileDownload Data File\n",
    "\n",
    "1) Download the data file above and read it into a pandas DataFrame.\n",
    "2) Add the code necessary to describe the dataset\n",
    "3) Using markdown commentary describe the dataset\n",
    "4) Conduct at least three EDA techniques on the dataset, include markdown commentary to describe what you are doing, why you are doing it and the results of each analysis\n",
    "5) Using Taxes as the independent variable and Sell as the dependent variable, fit a linear regression model and display the output from the model\n",
    "6) In addition to the model output include markdown commentary about the important statistics from the output; is taxes a good predictor for selling price? Why or why not?\n",
    "7) Repeat this procedure using one of the other variables as the independent variable. Which model is \"better\"? What are some limitations of the model? \n"
   ]
  },
  {
   "cell_type": "markdown",
   "id": "6ad2607b-e870-44cd-8931-6114562b5e9b",
   "metadata": {},
   "source": [
    "### 1) Download the data file above and read it into a pandas DataFrame."
   ]
  },
  {
   "cell_type": "code",
   "execution_count": 6,
   "id": "99b97d21-e9de-43e1-9320-0ce4db4b9690",
   "metadata": {},
   "outputs": [],
   "source": [
    "import numpy as np \n",
    "import pandas as pd \n",
    "import statsmodels.api as sm"
   ]
  },
  {
   "cell_type": "code",
   "execution_count": 20,
   "id": "1368f69a-b12f-48dd-a3c7-08f945e8b227",
   "metadata": {},
   "outputs": [],
   "source": [
    "df = pd.read_csv(\"../OIM_7502_classwork/homes.csv\")"
   ]
  },
  {
   "cell_type": "markdown",
   "id": "f2a61ba0-02b7-44f1-8acd-f72a42f9ca36",
   "metadata": {},
   "source": [
    "### 2) Add the code necessary to describe dataset"
   ]
  },
  {
   "cell_type": "markdown",
   "id": "dd9f93eb-579e-4e4b-8053-45cab2792463",
   "metadata": {},
   "source": [
    "I’ll start by checking the structure of the dataset, column types, and if there are any missing values"
   ]
  },
  {
   "cell_type": "code",
   "execution_count": 77,
   "id": "97e0a00e-77dc-42f9-aaf4-4545d4c90eb7",
   "metadata": {},
   "outputs": [
    {
     "data": {
      "text/html": [
       "<div>\n",
       "<style scoped>\n",
       "    .dataframe tbody tr th:only-of-type {\n",
       "        vertical-align: middle;\n",
       "    }\n",
       "\n",
       "    .dataframe tbody tr th {\n",
       "        vertical-align: top;\n",
       "    }\n",
       "\n",
       "    .dataframe thead th {\n",
       "        text-align: right;\n",
       "    }\n",
       "</style>\n",
       "<table border=\"1\" class=\"dataframe\">\n",
       "  <thead>\n",
       "    <tr style=\"text-align: right;\">\n",
       "      <th></th>\n",
       "      <th>Sell</th>\n",
       "      <th>List</th>\n",
       "      <th>Living</th>\n",
       "      <th>Rooms</th>\n",
       "      <th>Beds</th>\n",
       "      <th>Baths</th>\n",
       "      <th>Age</th>\n",
       "      <th>Acres</th>\n",
       "      <th>Taxes</th>\n",
       "    </tr>\n",
       "  </thead>\n",
       "  <tbody>\n",
       "    <tr>\n",
       "      <th>0</th>\n",
       "      <td>142.0</td>\n",
       "      <td>160.0</td>\n",
       "      <td>28.0</td>\n",
       "      <td>10.0</td>\n",
       "      <td>5.0</td>\n",
       "      <td>3.0</td>\n",
       "      <td>60.0</td>\n",
       "      <td>0.28</td>\n",
       "      <td>3167.0</td>\n",
       "    </tr>\n",
       "    <tr>\n",
       "      <th>1</th>\n",
       "      <td>175.0</td>\n",
       "      <td>180.0</td>\n",
       "      <td>18.0</td>\n",
       "      <td>8.0</td>\n",
       "      <td>4.0</td>\n",
       "      <td>1.0</td>\n",
       "      <td>12.0</td>\n",
       "      <td>0.43</td>\n",
       "      <td>4033.0</td>\n",
       "    </tr>\n",
       "    <tr>\n",
       "      <th>2</th>\n",
       "      <td>129.0</td>\n",
       "      <td>132.0</td>\n",
       "      <td>13.0</td>\n",
       "      <td>6.0</td>\n",
       "      <td>3.0</td>\n",
       "      <td>1.0</td>\n",
       "      <td>41.0</td>\n",
       "      <td>0.33</td>\n",
       "      <td>1471.0</td>\n",
       "    </tr>\n",
       "    <tr>\n",
       "      <th>3</th>\n",
       "      <td>138.0</td>\n",
       "      <td>140.0</td>\n",
       "      <td>17.0</td>\n",
       "      <td>7.0</td>\n",
       "      <td>3.0</td>\n",
       "      <td>1.0</td>\n",
       "      <td>22.0</td>\n",
       "      <td>0.46</td>\n",
       "      <td>3204.0</td>\n",
       "    </tr>\n",
       "    <tr>\n",
       "      <th>4</th>\n",
       "      <td>232.0</td>\n",
       "      <td>240.0</td>\n",
       "      <td>25.0</td>\n",
       "      <td>8.0</td>\n",
       "      <td>4.0</td>\n",
       "      <td>3.0</td>\n",
       "      <td>5.0</td>\n",
       "      <td>2.05</td>\n",
       "      <td>3613.0</td>\n",
       "    </tr>\n",
       "  </tbody>\n",
       "</table>\n",
       "</div>"
      ],
      "text/plain": [
       "    Sell   List  Living  Rooms  Beds  Baths   Age  Acres   Taxes\n",
       "0  142.0  160.0    28.0   10.0   5.0    3.0  60.0   0.28  3167.0\n",
       "1  175.0  180.0    18.0    8.0   4.0    1.0  12.0   0.43  4033.0\n",
       "2  129.0  132.0    13.0    6.0   3.0    1.0  41.0   0.33  1471.0\n",
       "3  138.0  140.0    17.0    7.0   3.0    1.0  22.0   0.46  3204.0\n",
       "4  232.0  240.0    25.0    8.0   4.0    3.0   5.0   2.05  3613.0"
      ]
     },
     "execution_count": 77,
     "metadata": {},
     "output_type": "execute_result"
    }
   ],
   "source": [
    "df.head()"
   ]
  },
  {
   "cell_type": "code",
   "execution_count": 18,
   "id": "4b8de6c6-98fe-4659-b8c1-deb301146d1e",
   "metadata": {},
   "outputs": [
    {
     "name": "stdout",
     "output_type": "stream",
     "text": [
      "<class 'pandas.core.frame.DataFrame'>\n",
      "RangeIndex: 51 entries, 0 to 50\n",
      "Data columns (total 9 columns):\n",
      " #   Column  Non-Null Count  Dtype  \n",
      "---  ------  --------------  -----  \n",
      " 0   Sell    51 non-null     object \n",
      " 1   List    50 non-null     float64\n",
      " 2   Living  50 non-null     float64\n",
      " 3   Rooms   50 non-null     float64\n",
      " 4   Beds    50 non-null     float64\n",
      " 5   Baths   50 non-null     float64\n",
      " 6   Age     50 non-null     float64\n",
      " 7   Acres   50 non-null     float64\n",
      " 8   Taxes   50 non-null     float64\n",
      "dtypes: float64(8), object(1)\n",
      "memory usage: 3.7+ KB\n"
     ]
    }
   ],
   "source": [
    "df.info()"
   ]
  },
  {
   "cell_type": "code",
   "execution_count": 36,
   "id": "54d2cf04-36e6-49c4-89eb-fc74cad41b63",
   "metadata": {},
   "outputs": [
    {
     "data": {
      "text/html": [
       "<div>\n",
       "<style scoped>\n",
       "    .dataframe tbody tr th:only-of-type {\n",
       "        vertical-align: middle;\n",
       "    }\n",
       "\n",
       "    .dataframe tbody tr th {\n",
       "        vertical-align: top;\n",
       "    }\n",
       "\n",
       "    .dataframe thead th {\n",
       "        text-align: right;\n",
       "    }\n",
       "</style>\n",
       "<table border=\"1\" class=\"dataframe\">\n",
       "  <thead>\n",
       "    <tr style=\"text-align: right;\">\n",
       "      <th></th>\n",
       "      <th>count</th>\n",
       "      <th>mean</th>\n",
       "      <th>std</th>\n",
       "      <th>min</th>\n",
       "      <th>25%</th>\n",
       "      <th>50%</th>\n",
       "      <th>75%</th>\n",
       "      <th>max</th>\n",
       "    </tr>\n",
       "  </thead>\n",
       "  <tbody>\n",
       "    <tr>\n",
       "      <th>List</th>\n",
       "      <td>50.0</td>\n",
       "      <td>178.3400</td>\n",
       "      <td>79.382723</td>\n",
       "      <td>90.00</td>\n",
       "      <td>140.0000</td>\n",
       "      <td>160.00</td>\n",
       "      <td>190.0000</td>\n",
       "      <td>625.00</td>\n",
       "    </tr>\n",
       "    <tr>\n",
       "      <th>Living</th>\n",
       "      <td>50.0</td>\n",
       "      <td>21.1200</td>\n",
       "      <td>8.351072</td>\n",
       "      <td>10.00</td>\n",
       "      <td>17.0000</td>\n",
       "      <td>20.00</td>\n",
       "      <td>22.7500</td>\n",
       "      <td>64.00</td>\n",
       "    </tr>\n",
       "    <tr>\n",
       "      <th>Rooms</th>\n",
       "      <td>50.0</td>\n",
       "      <td>8.0600</td>\n",
       "      <td>1.284285</td>\n",
       "      <td>5.00</td>\n",
       "      <td>7.0000</td>\n",
       "      <td>8.00</td>\n",
       "      <td>9.0000</td>\n",
       "      <td>12.00</td>\n",
       "    </tr>\n",
       "    <tr>\n",
       "      <th>Beds</th>\n",
       "      <td>50.0</td>\n",
       "      <td>3.8200</td>\n",
       "      <td>0.690755</td>\n",
       "      <td>3.00</td>\n",
       "      <td>3.0000</td>\n",
       "      <td>4.00</td>\n",
       "      <td>4.0000</td>\n",
       "      <td>6.00</td>\n",
       "    </tr>\n",
       "    <tr>\n",
       "      <th>Baths</th>\n",
       "      <td>50.0</td>\n",
       "      <td>1.8600</td>\n",
       "      <td>0.756199</td>\n",
       "      <td>1.00</td>\n",
       "      <td>1.0000</td>\n",
       "      <td>2.00</td>\n",
       "      <td>2.0000</td>\n",
       "      <td>4.00</td>\n",
       "    </tr>\n",
       "    <tr>\n",
       "      <th>Age</th>\n",
       "      <td>50.0</td>\n",
       "      <td>30.2200</td>\n",
       "      <td>30.962314</td>\n",
       "      <td>2.00</td>\n",
       "      <td>12.2500</td>\n",
       "      <td>24.50</td>\n",
       "      <td>37.0000</td>\n",
       "      <td>202.00</td>\n",
       "    </tr>\n",
       "    <tr>\n",
       "      <th>Acres</th>\n",
       "      <td>50.0</td>\n",
       "      <td>1.0206</td>\n",
       "      <td>1.191496</td>\n",
       "      <td>0.22</td>\n",
       "      <td>0.3825</td>\n",
       "      <td>0.55</td>\n",
       "      <td>1.1825</td>\n",
       "      <td>6.49</td>\n",
       "    </tr>\n",
       "    <tr>\n",
       "      <th>Taxes</th>\n",
       "      <td>50.0</td>\n",
       "      <td>3706.1000</td>\n",
       "      <td>1579.915268</td>\n",
       "      <td>1445.00</td>\n",
       "      <td>3107.0000</td>\n",
       "      <td>3490.00</td>\n",
       "      <td>3919.2500</td>\n",
       "      <td>12192.00</td>\n",
       "    </tr>\n",
       "  </tbody>\n",
       "</table>\n",
       "</div>"
      ],
      "text/plain": [
       "        count       mean          std      min        25%      50%        75%  \\\n",
       "List     50.0   178.3400    79.382723    90.00   140.0000   160.00   190.0000   \n",
       "Living   50.0    21.1200     8.351072    10.00    17.0000    20.00    22.7500   \n",
       "Rooms    50.0     8.0600     1.284285     5.00     7.0000     8.00     9.0000   \n",
       "Beds     50.0     3.8200     0.690755     3.00     3.0000     4.00     4.0000   \n",
       "Baths    50.0     1.8600     0.756199     1.00     1.0000     2.00     2.0000   \n",
       "Age      50.0    30.2200    30.962314     2.00    12.2500    24.50    37.0000   \n",
       "Acres    50.0     1.0206     1.191496     0.22     0.3825     0.55     1.1825   \n",
       "Taxes    50.0  3706.1000  1579.915268  1445.00  3107.0000  3490.00  3919.2500   \n",
       "\n",
       "             max  \n",
       "List      625.00  \n",
       "Living     64.00  \n",
       "Rooms      12.00  \n",
       "Beds        6.00  \n",
       "Baths       4.00  \n",
       "Age       202.00  \n",
       "Acres       6.49  \n",
       "Taxes   12192.00  "
      ]
     },
     "execution_count": 36,
     "metadata": {},
     "output_type": "execute_result"
    }
   ],
   "source": [
    "df.describe().T"
   ]
  },
  {
   "cell_type": "markdown",
   "id": "7764da4d-8ce1-4e48-944b-e425e79a455b",
   "metadata": {},
   "source": [
    "Comments: \n",
    "The dataset has info from 50 homes and 9 columns related to value and features. Most columns are numeric. On average, houses list for around 178 and sell for a bit less.\n",
    "Taxes go from about 1,400 up to 12,000, so the range is pretty big.\n",
    "The data mixes both newer and older homes, since Age goes from 2 to over 200."
   ]
  },
  {
   "cell_type": "markdown",
   "id": "3d835bca-086e-45e6-b3fa-8b3c41635d1c",
   "metadata": {},
   "source": [
    "### 3) Using markdown commentary describe the dataset (done in every step)"
   ]
  },
  {
   "cell_type": "markdown",
   "id": "1b3b4f6d-d5ca-4cc9-b60c-b080c795b0e7",
   "metadata": {},
   "source": [
    "### 4) Conduct at least three EDA techniques on the dataset, include markdown commentary to describe what you are doing, why you are doing it and the results of each analysis"
   ]
  },
  {
   "cell_type": "code",
   "execution_count": 51,
   "id": "40bb797f-76b7-4ce6-bbdf-16a94462056c",
   "metadata": {},
   "outputs": [],
   "source": [
    "import matplotlib.pyplot as plt\n",
    "import seaborn as sn "
   ]
  },
  {
   "cell_type": "markdown",
   "id": "0e972efd-c3c9-4039-ae21-9cf427275e19",
   "metadata": {},
   "source": [
    "#### 4.1) EDA 1: Distribution of Sell"
   ]
  },
  {
   "cell_type": "code",
   "execution_count": 108,
   "id": "5cb45e0f-a859-449d-80e4-541c9c8b6cee",
   "metadata": {},
   "outputs": [
    {
     "data": {
      "image/png": "[encoded data removed]",
      "text/plain": [
       "<Figure size 640x480 with 1 Axes>"
      ]
     },
     "metadata": {},
     "output_type": "display_data"
    }
   ],
   "source": [
    "df[\"Sell\"] = pd.to_numeric(df[\"Sell\"], errors=\"coerce\")\n",
    "sn.histplot(df[\"Sell\"], bins=10);\n"
   ]
  },
  {
   "cell_type": "markdown",
   "id": "c4b1478d-fff1-43d8-bec6-1f494d3c6cab",
   "metadata": {},
   "source": [
    "Here I checked how the selling prices are distributed to get a first idea of their range.\n",
    "The plot shows that most homes sell between 100 and 200, with a few much higher values around 500.\n",
    "The data is right-skewed, meaning there are some expensive houses pulling the average up"
   ]
  },
  {
   "cell_type": "markdown",
   "id": "71fa453a-493b-4b3d-8160-c5cf9c39f1fd",
   "metadata": {},
   "source": [
    "#### 4.2) EDA 2 — Relationship between Taxes and Sell"
   ]
  },
  {
   "cell_type": "code",
   "execution_count": 104,
   "id": "042020da-2cf6-4020-a87f-681ddae7ba32",
   "metadata": {},
   "outputs": [
    {
     "data": {
      "image/png": "[encoded data removed]",
      "text/plain": [
       "<Figure size 640x480 with 1 Axes>"
      ]
     },
     "metadata": {},
     "output_type": "display_data"
    }
   ],
   "source": [
    "sn.scatterplot(x=\"Taxes\", y=\"Sell\", data=df);\n"
   ]
  },
  {
   "cell_type": "markdown",
   "id": "3dbb35d1-eabf-4afc-991b-90881e796cd6",
   "metadata": {},
   "source": [
    "Here I plotted \"Taxes\" against \"Sell\" to see if there’s a relationship between them. The plot shows an upward trend, meaning homes with higher taxes usually sell for higher prices. This makes sense because property taxes are based on home value, so both variables naturally move together"
   ]
  },
  {
   "cell_type": "markdown",
   "id": "24492235-330a-4227-b347-61bb34605f0a",
   "metadata": {},
   "source": [
    "#### 4.3) EDA 3: Correlation Check"
   ]
  },
  {
   "cell_type": "code",
   "execution_count": 66,
   "id": "4d33f181-a664-4655-9aff-1e750b56604b",
   "metadata": {},
   "outputs": [
    {
     "data": {
      "text/plain": [
       "Sell      1.000000\n",
       "List      0.997433\n",
       "Living    0.879381\n",
       "Rooms     0.560425\n",
       "Beds      0.335113\n",
       "Baths     0.640059\n",
       "Age      -0.147343\n",
       "Acres     0.168713\n",
       "Taxes     0.899339\n",
       "Name: Sell, dtype: float64"
      ]
     },
     "execution_count": 66,
     "metadata": {},
     "output_type": "execute_result"
    }
   ],
   "source": [
    "df.corr(numeric_only=True)[\"Sell\"]"
   ]
  },
  {
   "cell_type": "markdown",
   "id": "0a64508e-43ba-434b-a07a-a20bc7765c3b",
   "metadata": {},
   "source": [
    "To wrap up, I checked the correlations to confirm the patterns from the previous plots. List and Taxes have the strongest positive correlation with Sell, while Age is slightly negative.\n",
    "This supports what I metioned before: higher taxes are linked with higher selling prices, but that doesn’t mean taxes cause higher prices; they’re related because more expensive homes pay higher property taxes."
   ]
  },
  {
   "cell_type": "markdown",
   "id": "700f81ff-d23f-401a-b03f-a698913b1cae",
   "metadata": {},
   "source": [
    "### 5) Using Taxes as the independent variable and Sell as the dependent variable, fit a linear regression model and display the output from the model"
   ]
  },
  {
   "cell_type": "code",
   "execution_count": 84,
   "id": "524589cf-907e-41db-9dc0-f48984738c48",
   "metadata": {},
   "outputs": [
    {
     "data": {
      "text/plain": [
       "Sell     1\n",
       "Taxes    1\n",
       "dtype: int64"
      ]
     },
     "execution_count": 84,
     "metadata": {},
     "output_type": "execute_result"
    }
   ],
   "source": [
    "# Reconfirm missing values in the columns used for the model\n",
    "df[[\"Sell\", \"Taxes\"]].isna().sum()"
   ]
  },
  {
   "cell_type": "code",
   "execution_count": 99,
   "id": "4a0eb720-3071-47bd-84f8-4d126962545d",
   "metadata": {},
   "outputs": [
    {
     "data": {
      "text/html": [
       "<table class=\"simpletable\">\n",
       "<caption>OLS Regression Results</caption>\n",
       "<tr>\n",
       "  <th>Dep. Variable:</th>          <td>Sell</td>       <th>  R-squared:         </th> <td>   0.022</td>\n",
       "</tr>\n",
       "<tr>\n",
       "  <th>Model:</th>                   <td>OLS</td>       <th>  Adj. R-squared:    </th> <td>   0.001</td>\n",
       "</tr>\n",
       "<tr>\n",
       "  <th>Method:</th>             <td>Least Squares</td>  <th>  F-statistic:       </th> <td>   1.065</td>\n",
       "</tr>\n",
       "<tr>\n",
       "  <th>Date:</th>             <td>Mon, 13 Oct 2025</td> <th>  Prob (F-statistic):</th>  <td> 0.307</td> \n",
       "</tr>\n",
       "<tr>\n",
       "  <th>Time:</th>                 <td>22:12:45</td>     <th>  Log-Likelihood:    </th> <td> -284.25</td>\n",
       "</tr>\n",
       "<tr>\n",
       "  <th>No. Observations:</th>      <td>    50</td>      <th>  AIC:               </th> <td>   572.5</td>\n",
       "</tr>\n",
       "<tr>\n",
       "  <th>Df Residuals:</th>          <td>    48</td>      <th>  BIC:               </th> <td>   576.3</td>\n",
       "</tr>\n",
       "<tr>\n",
       "  <th>Df Model:</th>              <td>     1</td>      <th>                     </th>     <td> </td>   \n",
       "</tr>\n",
       "<tr>\n",
       "  <th>Covariance Type:</th>      <td>nonrobust</td>    <th>                     </th>     <td> </td>   \n",
       "</tr>\n",
       "</table>\n",
       "<table class=\"simpletable\">\n",
       "<tr>\n",
       "    <td></td>       <th>coef</th>     <th>std err</th>      <th>t</th>      <th>P>|t|</th>  <th>[0.025</th>    <th>0.975]</th>  \n",
       "</tr>\n",
       "<tr>\n",
       "  <th>const</th> <td>  180.8230</td> <td>   14.440</td> <td>   12.523</td> <td> 0.000</td> <td>  151.790</td> <td>  209.856</td>\n",
       "</tr>\n",
       "<tr>\n",
       "  <th>Age</th>   <td>   -0.3462</td> <td>    0.335</td> <td>   -1.032</td> <td> 0.307</td> <td>   -1.021</td> <td>    0.328</td>\n",
       "</tr>\n",
       "</table>\n",
       "<table class=\"simpletable\">\n",
       "<tr>\n",
       "  <th>Omnibus:</th>       <td>65.016</td> <th>  Durbin-Watson:     </th> <td>   2.169</td> \n",
       "</tr>\n",
       "<tr>\n",
       "  <th>Prob(Omnibus):</th> <td> 0.000</td> <th>  Jarque-Bera (JB):  </th> <td> 564.646</td> \n",
       "</tr>\n",
       "<tr>\n",
       "  <th>Skew:</th>          <td> 3.358</td> <th>  Prob(JB):          </th> <td>2.45e-123</td>\n",
       "</tr>\n",
       "<tr>\n",
       "  <th>Kurtosis:</th>      <td>18.031</td> <th>  Cond. No.          </th> <td>    60.5</td> \n",
       "</tr>\n",
       "</table><br/><br/>Notes:<br/>[1] Standard Errors assume that the covariance matrix of the errors is correctly specified."
      ],
      "text/latex": [
       "\\begin{center}\n",
       "\\begin{tabular}{lclc}\n",
       "\\toprule\n",
       "\\textbf{Dep. Variable:}    &       Sell       & \\textbf{  R-squared:         } &     0.022   \\\\\n",
       "\\textbf{Model:}            &       OLS        & \\textbf{  Adj. R-squared:    } &     0.001   \\\\\n",
       "\\textbf{Method:}           &  Least Squares   & \\textbf{  F-statistic:       } &     1.065   \\\\\n",
       "\\textbf{Date:}             & Mon, 13 Oct 2025 & \\textbf{  Prob (F-statistic):} &    0.307    \\\\\n",
       "\\textbf{Time:}             &     22:12:45     & \\textbf{  Log-Likelihood:    } &   -284.25   \\\\\n",
       "\\textbf{No. Observations:} &          50      & \\textbf{  AIC:               } &     572.5   \\\\\n",
       "\\textbf{Df Residuals:}     &          48      & \\textbf{  BIC:               } &     576.3   \\\\\n",
       "\\textbf{Df Model:}         &           1      & \\textbf{                     } &             \\\\\n",
       "\\textbf{Covariance Type:}  &    nonrobust     & \\textbf{                     } &             \\\\\n",
       "\\bottomrule\n",
       "\\end{tabular}\n",
       "\\begin{tabular}{lcccccc}\n",
       "               & \\textbf{coef} & \\textbf{std err} & \\textbf{t} & \\textbf{P$> |$t$|$} & \\textbf{[0.025} & \\textbf{0.975]}  \\\\\n",
       "\\midrule\n",
       "\\textbf{const} &     180.8230  &       14.440     &    12.523  &         0.000        &      151.790    &      209.856     \\\\\n",
       "\\textbf{Age}   &      -0.3462  &        0.335     &    -1.032  &         0.307        &       -1.021    &        0.328     \\\\\n",
       "\\bottomrule\n",
       "\\end{tabular}\n",
       "\\begin{tabular}{lclc}\n",
       "\\textbf{Omnibus:}       & 65.016 & \\textbf{  Durbin-Watson:     } &     2.169  \\\\\n",
       "\\textbf{Prob(Omnibus):} &  0.000 & \\textbf{  Jarque-Bera (JB):  } &   564.646  \\\\\n",
       "\\textbf{Skew:}          &  3.358 & \\textbf{  Prob(JB):          } & 2.45e-123  \\\\\n",
       "\\textbf{Kurtosis:}      & 18.031 & \\textbf{  Cond. No.          } &      60.5  \\\\\n",
       "\\bottomrule\n",
       "\\end{tabular}\n",
       "%\\caption{OLS Regression Results}\n",
       "\\end{center}\n",
       "\n",
       "Notes: \\newline\n",
       " [1] Standard Errors assume that the covariance matrix of the errors is correctly specified."
      ],
      "text/plain": [
       "<class 'statsmodels.iolib.summary.Summary'>\n",
       "\"\"\"\n",
       "                            OLS Regression Results                            \n",
       "==============================================================================\n",
       "Dep. Variable:                   Sell   R-squared:                       0.022\n",
       "Model:                            OLS   Adj. R-squared:                  0.001\n",
       "Method:                 Least Squares   F-statistic:                     1.065\n",
       "Date:                Mon, 13 Oct 2025   Prob (F-statistic):              0.307\n",
       "Time:                        22:12:45   Log-Likelihood:                -284.25\n",
       "No. Observations:                  50   AIC:                             572.5\n",
       "Df Residuals:                      48   BIC:                             576.3\n",
       "Df Model:                           1                                         \n",
       "Covariance Type:            nonrobust                                         \n",
       "==============================================================================\n",
       "                 coef    std err          t      P>|t|      [0.025      0.975]\n",
       "------------------------------------------------------------------------------\n",
       "const        180.8230     14.440     12.523      0.000     151.790     209.856\n",
       "Age           -0.3462      0.335     -1.032      0.307      -1.021       0.328\n",
       "==============================================================================\n",
       "Omnibus:                       65.016   Durbin-Watson:                   2.169\n",
       "Prob(Omnibus):                  0.000   Jarque-Bera (JB):              564.646\n",
       "Skew:                           3.358   Prob(JB):                    2.45e-123\n",
       "Kurtosis:                      18.031   Cond. No.                         60.5\n",
       "==============================================================================\n",
       "\n",
       "Notes:\n",
       "[1] Standard Errors assume that the covariance matrix of the errors is correctly specified.\n",
       "\"\"\""
      ]
     },
     "execution_count": 99,
     "metadata": {},
     "output_type": "execute_result"
    }
   ],
   "source": [
    "# make sure Sell column is numeric\n",
    "df[\"Sell\"] = pd.to_numeric(df[\"Sell\"], errors=\"coerce\")\n",
    "\n",
    "# keep only complete rows (no missing values)\n",
    "tmp_age = df[[\"Sell\", \"Age\"]].dropna()\n",
    "\n",
    "# define X (independent) and y (dependent)\n",
    "X_age = sm.add_constant(tmp_age[\"Age\"])  # add intercept\n",
    "y_age = tmp_age[\"Sell\"]\n",
    "\n",
    "model_age = sm.OLS(y_age, X_age).fit()\n",
    "\n",
    "model_age.summary()\n",
    "\n"
   ]
  },
  {
   "cell_type": "markdown",
   "id": "53911dd5-1012-4d8a-99a9-4169d3d97b36",
   "metadata": {},
   "source": [
    "The coefficient for \"Taxes\" is positive and significant (p < 0.05), meaning homes with higher taxes tend to sell for higher prices.\n",
    "The model’s R-squared is 0.81, so Taxes explains most of the variation in selling prices. This result matches with what is shown during the EDA."
   ]
  },
  {
   "cell_type": "markdown",
   "id": "38f9bde0-9664-4092-a4d9-809a59c8ff33",
   "metadata": {},
   "source": [
    "### 6) In addition to the model output include markdown commentary about the important statistics from the output; is taxes a good predictor for selling price? Why or why not?"
   ]
  },
  {
   "cell_type": "markdown",
   "id": "5b3e004e-6efb-41f5-acbe-456ba1d29d29",
   "metadata": {},
   "source": [
    "PRevious results show a strong and significant relationship between \"Taxes\" and \"Sell\" (p < 0.05, R^2 = 0.81).\n",
    "Statistically, the variable \"Taxes\" is a good predictor for selling price because it explains most of its variation.\n",
    "However, I would say in the real world, this relationship is expected and not fully independent, since property taxes are based on home value, so higher taxes simply reflect higher-priced properties rather than causing them"
   ]
  },
  {
   "cell_type": "markdown",
   "id": "12f34c2f-2d95-46fa-b8c8-0580e192694d",
   "metadata": {},
   "source": [
    "### 7) Repeat this procedure using one of the other variables as the independent variable. Which model is \"better\"? What are some limitations of the model?"
   ]
  },
  {
   "cell_type": "markdown",
   "id": "c83aa3b4-e5e1-41f1-a7f1-1e6a2738a136",
   "metadata": {},
   "source": [
    "For this time used \"Age\" as the independent variable, because it represents a more independent characteristic of the house: older homes might lose value over time, but this relationship is not always straightforward."
   ]
  },
  {
   "cell_type": "code",
   "execution_count": 101,
   "id": "2098fd07-548a-4041-b974-8332b611c09b",
   "metadata": {},
   "outputs": [
    {
     "data": {
      "text/html": [
       "<table class=\"simpletable\">\n",
       "<caption>OLS Regression Results</caption>\n",
       "<tr>\n",
       "  <th>Dep. Variable:</th>          <td>Sell</td>       <th>  R-squared:         </th> <td>   0.022</td>\n",
       "</tr>\n",
       "<tr>\n",
       "  <th>Model:</th>                   <td>OLS</td>       <th>  Adj. R-squared:    </th> <td>   0.001</td>\n",
       "</tr>\n",
       "<tr>\n",
       "  <th>Method:</th>             <td>Least Squares</td>  <th>  F-statistic:       </th> <td>   1.065</td>\n",
       "</tr>\n",
       "<tr>\n",
       "  <th>Date:</th>             <td>Mon, 13 Oct 2025</td> <th>  Prob (F-statistic):</th>  <td> 0.307</td> \n",
       "</tr>\n",
       "<tr>\n",
       "  <th>Time:</th>                 <td>22:13:04</td>     <th>  Log-Likelihood:    </th> <td> -284.25</td>\n",
       "</tr>\n",
       "<tr>\n",
       "  <th>No. Observations:</th>      <td>    50</td>      <th>  AIC:               </th> <td>   572.5</td>\n",
       "</tr>\n",
       "<tr>\n",
       "  <th>Df Residuals:</th>          <td>    48</td>      <th>  BIC:               </th> <td>   576.3</td>\n",
       "</tr>\n",
       "<tr>\n",
       "  <th>Df Model:</th>              <td>     1</td>      <th>                     </th>     <td> </td>   \n",
       "</tr>\n",
       "<tr>\n",
       "  <th>Covariance Type:</th>      <td>nonrobust</td>    <th>                     </th>     <td> </td>   \n",
       "</tr>\n",
       "</table>\n",
       "<table class=\"simpletable\">\n",
       "<tr>\n",
       "    <td></td>       <th>coef</th>     <th>std err</th>      <th>t</th>      <th>P>|t|</th>  <th>[0.025</th>    <th>0.975]</th>  \n",
       "</tr>\n",
       "<tr>\n",
       "  <th>const</th> <td>  180.8230</td> <td>   14.440</td> <td>   12.523</td> <td> 0.000</td> <td>  151.790</td> <td>  209.856</td>\n",
       "</tr>\n",
       "<tr>\n",
       "  <th>Age</th>   <td>   -0.3462</td> <td>    0.335</td> <td>   -1.032</td> <td> 0.307</td> <td>   -1.021</td> <td>    0.328</td>\n",
       "</tr>\n",
       "</table>\n",
       "<table class=\"simpletable\">\n",
       "<tr>\n",
       "  <th>Omnibus:</th>       <td>65.016</td> <th>  Durbin-Watson:     </th> <td>   2.169</td> \n",
       "</tr>\n",
       "<tr>\n",
       "  <th>Prob(Omnibus):</th> <td> 0.000</td> <th>  Jarque-Bera (JB):  </th> <td> 564.646</td> \n",
       "</tr>\n",
       "<tr>\n",
       "  <th>Skew:</th>          <td> 3.358</td> <th>  Prob(JB):          </th> <td>2.45e-123</td>\n",
       "</tr>\n",
       "<tr>\n",
       "  <th>Kurtosis:</th>      <td>18.031</td> <th>  Cond. No.          </th> <td>    60.5</td> \n",
       "</tr>\n",
       "</table><br/><br/>Notes:<br/>[1] Standard Errors assume that the covariance matrix of the errors is correctly specified."
      ],
      "text/latex": [
       "\\begin{center}\n",
       "\\begin{tabular}{lclc}\n",
       "\\toprule\n",
       "\\textbf{Dep. Variable:}    &       Sell       & \\textbf{  R-squared:         } &     0.022   \\\\\n",
       "\\textbf{Model:}            &       OLS        & \\textbf{  Adj. R-squared:    } &     0.001   \\\\\n",
       "\\textbf{Method:}           &  Least Squares   & \\textbf{  F-statistic:       } &     1.065   \\\\\n",
       "\\textbf{Date:}             & Mon, 13 Oct 2025 & \\textbf{  Prob (F-statistic):} &    0.307    \\\\\n",
       "\\textbf{Time:}             &     22:13:04     & \\textbf{  Log-Likelihood:    } &   -284.25   \\\\\n",
       "\\textbf{No. Observations:} &          50      & \\textbf{  AIC:               } &     572.5   \\\\\n",
       "\\textbf{Df Residuals:}     &          48      & \\textbf{  BIC:               } &     576.3   \\\\\n",
       "\\textbf{Df Model:}         &           1      & \\textbf{                     } &             \\\\\n",
       "\\textbf{Covariance Type:}  &    nonrobust     & \\textbf{                     } &             \\\\\n",
       "\\bottomrule\n",
       "\\end{tabular}\n",
       "\\begin{tabular}{lcccccc}\n",
       "               & \\textbf{coef} & \\textbf{std err} & \\textbf{t} & \\textbf{P$> |$t$|$} & \\textbf{[0.025} & \\textbf{0.975]}  \\\\\n",
       "\\midrule\n",
       "\\textbf{const} &     180.8230  &       14.440     &    12.523  &         0.000        &      151.790    &      209.856     \\\\\n",
       "\\textbf{Age}   &      -0.3462  &        0.335     &    -1.032  &         0.307        &       -1.021    &        0.328     \\\\\n",
       "\\bottomrule\n",
       "\\end{tabular}\n",
       "\\begin{tabular}{lclc}\n",
       "\\textbf{Omnibus:}       & 65.016 & \\textbf{  Durbin-Watson:     } &     2.169  \\\\\n",
       "\\textbf{Prob(Omnibus):} &  0.000 & \\textbf{  Jarque-Bera (JB):  } &   564.646  \\\\\n",
       "\\textbf{Skew:}          &  3.358 & \\textbf{  Prob(JB):          } & 2.45e-123  \\\\\n",
       "\\textbf{Kurtosis:}      & 18.031 & \\textbf{  Cond. No.          } &      60.5  \\\\\n",
       "\\bottomrule\n",
       "\\end{tabular}\n",
       "%\\caption{OLS Regression Results}\n",
       "\\end{center}\n",
       "\n",
       "Notes: \\newline\n",
       " [1] Standard Errors assume that the covariance matrix of the errors is correctly specified."
      ],
      "text/plain": [
       "<class 'statsmodels.iolib.summary.Summary'>\n",
       "\"\"\"\n",
       "                            OLS Regression Results                            \n",
       "==============================================================================\n",
       "Dep. Variable:                   Sell   R-squared:                       0.022\n",
       "Model:                            OLS   Adj. R-squared:                  0.001\n",
       "Method:                 Least Squares   F-statistic:                     1.065\n",
       "Date:                Mon, 13 Oct 2025   Prob (F-statistic):              0.307\n",
       "Time:                        22:13:04   Log-Likelihood:                -284.25\n",
       "No. Observations:                  50   AIC:                             572.5\n",
       "Df Residuals:                      48   BIC:                             576.3\n",
       "Df Model:                           1                                         \n",
       "Covariance Type:            nonrobust                                         \n",
       "==============================================================================\n",
       "                 coef    std err          t      P>|t|      [0.025      0.975]\n",
       "------------------------------------------------------------------------------\n",
       "const        180.8230     14.440     12.523      0.000     151.790     209.856\n",
       "Age           -0.3462      0.335     -1.032      0.307      -1.021       0.328\n",
       "==============================================================================\n",
       "Omnibus:                       65.016   Durbin-Watson:                   2.169\n",
       "Prob(Omnibus):                  0.000   Jarque-Bera (JB):              564.646\n",
       "Skew:                           3.358   Prob(JB):                    2.45e-123\n",
       "Kurtosis:                      18.031   Cond. No.                         60.5\n",
       "==============================================================================\n",
       "\n",
       "Notes:\n",
       "[1] Standard Errors assume that the covariance matrix of the errors is correctly specified.\n",
       "\"\"\""
      ]
     },
     "execution_count": 101,
     "metadata": {},
     "output_type": "execute_result"
    }
   ],
   "source": [
    "# make sure Sell column is numeric\n",
    "df[\"Sell\"] = pd.to_numeric(df[\"Sell\"], errors=\"coerce\")\n",
    "\n",
    "# keep only complete rows (no missing values)\n",
    "tmp_age = df[[\"Sell\", \"Age\"]].dropna()\n",
    "\n",
    "# define X (independent) and y (dependent)\n",
    "X_age = sm.add_constant(tmp_age[\"Age\"])  # add intercept\n",
    "y_age = tmp_age[\"Sell\"]\n",
    "\n",
    "# fit the OLS regression model\n",
    "model_age = sm.OLS(y_age, X_age).fit()\n",
    "\n",
    "# display model summary\n",
    "model_age.summary()\n"
   ]
  },
  {
   "cell_type": "markdown",
   "id": "87bb0c07-1735-426d-bd26-7e55d768c6df",
   "metadata": {},
   "source": [
    "The R-squared value is 0.022, which means that \"Age\" explains only about 2% of the variation in selling price...almost nothing.\n",
    "The p-value (0.307) is higher than 0.05, meaning the relationship between \"Age\" and \"Sell\" is not statistically significant.\n",
    "The coefficient for \"Age\" is negative (-0.35), suggesting that, in this sample, older houses might sell for slightly less, but the effect is so weak it’s not reliable.\n",
    "\n",
    "Compared to the previous model using Taxes (R^2 = 0.81), this one fits the data much worse.\n",
    "This confirms that \"Taxes\" was a strong predictor while \"Age\" is not. The limitation here is that \"Age\" alone cannot explain selling prices and also real world housing prices depend on multiple variables together, not just one"
   ]
  },
  {
   "cell_type": "code",
   "execution_count": null,
   "id": "b53f37de-90b4-4eab-b733-28e653c34932",
   "metadata": {},
   "outputs": [],
   "source": []
  }
 ],
 "metadata": {
  "kernelspec": {
   "display_name": "Python [conda env:base] *",
   "language": "python",
   "name": "conda-base-py"
  },
  "language_info": {
   "codemirror_mode": {
    "name": "ipython",
    "version": 3
   },
   "file_extension": ".py",
   "mimetype": "text/x-python",
   "name": "python",
   "nbconvert_exporter": "python",
   "pygments_lexer": "ipython3",
   "version": "3.12.7"
  }
 },
 "nbformat": 4,
 "nbformat_minor": 5
}
