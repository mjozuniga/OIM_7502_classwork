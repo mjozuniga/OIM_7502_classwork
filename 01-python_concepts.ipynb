{
 "cells": [
  {
   "cell_type": "markdown",
   "id": "9383bafa",
   "metadata": {},
   "source": [
    "### Python Programming Concepts"
   ]
  },
  {
   "cell_type": "markdown",
   "id": "17df7d6e",
   "metadata": {},
   "source": [
    "#### 1. Create a variable to store the value 500 for sales"
   ]
  },
  {
   "cell_type": "code",
   "execution_count": 4,
   "id": "a5f43c2f",
   "metadata": {},
   "outputs": [
    {
     "name": "stdout",
     "output_type": "stream",
     "text": [
      "500\n"
     ]
    }
   ],
   "source": [
    "sales = 500\n",
    "print(sales)\n"
   ]
  },
  {
   "cell_type": "markdown",
   "id": "6dc8b9ea",
   "metadata": {},
   "source": [
    "#### 2. Create a variable to store several values:  \n",
    "* sales: 500, 475, 625\n",
    "* integers 1 - 9 "
   ]
  },
  {
   "cell_type": "code",
   "execution_count": 37,
   "id": "902fe3bd",
   "metadata": {},
   "outputs": [
    {
     "data": {
      "text/plain": [
       "625"
      ]
     },
     "execution_count": 37,
     "metadata": {},
     "output_type": "execute_result"
    }
   ],
   "source": [
    "sales = [500, 475, 625]\n",
    "\n",
    "#if I want to print the 1st object of the list, I can say sales_list[0] sales_list[-1] for the last one\n",
    "\n",
    "sales.pop()\n",
    "\n",
    "\n",
    "\n",
    "              "
   ]
  },
  {
   "cell_type": "code",
   "execution_count": 56,
   "id": "bbc89976-1dc6-4515-8b0e-0e305b948f87",
   "metadata": {},
   "outputs": [
    {
     "data": {
      "text/plain": [
       "[1, 2, 3, 4, 5, 6, 7, 8, 9]"
      ]
     },
     "execution_count": 56,
     "metadata": {},
     "output_type": "execute_result"
    }
   ],
   "source": [
    "#integers = list(range(1, 10))\n",
    "#print(integers)\n",
    "\n",
    "integers = list(range(1, 10))\n",
    "integers\n",
    "\n",
    "#or integers = list(range(10, 1, -1))\n",
    "#integers\n",
    "\n"
   ]
  },
  {
   "cell_type": "markdown",
   "id": "62e55953",
   "metadata": {},
   "source": [
    "#### 3. Create a variable to store the names and email addresses for a number of customers\n",
    "* John, john@some.com; Ann, ann@some.com"
   ]
  },
  {
   "cell_type": "code",
   "execution_count": 63,
   "id": "03f2b161",
   "metadata": {},
   "outputs": [
    {
     "data": {
      "text/plain": [
       "[{'name': 'John', 'email': 'john@some.com'},\n",
       " {'name': 'Ann', 'email': 'ann@some.com'}]"
      ]
     },
     "execution_count": 63,
     "metadata": {},
     "output_type": "execute_result"
    }
   ],
   "source": [
    "#customers = {\"John\": \"john@some.com\", \"Ann\": \"ann@some.com\"}\n",
    "#print(customers)\n",
    "\n",
    "#or\n",
    "\n",
    "customers = [\n",
    "    {'name':'John','email':'john@some.com'}, \n",
    "    {'name':'Ann','email':'ann@some.com'}\n",
    "]\n",
    "customers\n",
    "\n",
    "#f I want the first email on my list\n",
    "#\n"
   ]
  },
  {
   "cell_type": "markdown",
   "id": "d6b1e8c6",
   "metadata": {},
   "source": [
    "#### 4. Use Python to generate a random value based on each of following:\n",
    "1. between 0 and 1\n",
    "2. the standard normal distribution (rounded to two decimal places)\n",
    "3. a value between 1 and 10\n",
    "4. either H or T"
   ]
  },
  {
   "cell_type": "code",
   "execution_count": 67,
   "id": "f004d7b5",
   "metadata": {},
   "outputs": [],
   "source": [
    "import random #best way to do it"
   ]
  },
  {
   "cell_type": "code",
   "execution_count": 69,
   "id": "a8efc6fc",
   "metadata": {},
   "outputs": [
    {
     "data": {
      "text/plain": [
       "0.22983524720081627"
      ]
     },
     "execution_count": 69,
     "metadata": {},
     "output_type": "execute_result"
    }
   ],
   "source": [
    "random. random()"
   ]
  },
  {
   "cell_type": "code",
   "execution_count": 77,
   "id": "f20b6134-2d52-4465-a867-e7b69e9a9d94",
   "metadata": {},
   "outputs": [],
   "source": [
    "from random import random, randint"
   ]
  },
  {
   "cell_type": "code",
   "execution_count": 105,
   "id": "3a150c3e",
   "metadata": {},
   "outputs": [
    {
     "data": {
      "text/plain": [
       "10"
      ]
     },
     "execution_count": 105,
     "metadata": {},
     "output_type": "execute_result"
    }
   ],
   "source": [
    "randint (1,10)"
   ]
  },
  {
   "cell_type": "code",
   "execution_count": 107,
   "id": "f80f4b3b",
   "metadata": {},
   "outputs": [],
   "source": [
    "from random import random, normalvariate"
   ]
  },
  {
   "cell_type": "code",
   "execution_count": 109,
   "id": "bdb52b86",
   "metadata": {},
   "outputs": [
    {
     "data": {
      "text/plain": [
       "0.17411858161111377"
      ]
     },
     "execution_count": 109,
     "metadata": {},
     "output_type": "execute_result"
    }
   ],
   "source": [
    "normalvariate()"
   ]
  },
  {
   "cell_type": "code",
   "execution_count": 115,
   "id": "4bb7a5cb-47ee-4c2e-879d-5d18662c8555",
   "metadata": {},
   "outputs": [],
   "source": [
    "from random import random, normalvariate, choice"
   ]
  },
  {
   "cell_type": "code",
   "execution_count": 117,
   "id": "28923a7e-2a1b-47da-8479-4582cca8e5f2",
   "metadata": {},
   "outputs": [
    {
     "data": {
      "text/plain": [
       "'T'"
      ]
     },
     "execution_count": 117,
     "metadata": {},
     "output_type": "execute_result"
    }
   ],
   "source": [
    "choice([\"H\", \"T\"])"
   ]
  },
  {
   "cell_type": "markdown",
   "id": "7eddf06a",
   "metadata": {},
   "source": [
    "#### 5. Use Python to determine your current working directory"
   ]
  },
  {
   "cell_type": "code",
   "execution_count": 1,
   "id": "d8f79474",
   "metadata": {},
   "outputs": [
    {
     "name": "stdout",
     "output_type": "stream",
     "text": [
      "/Users/mariajosezuniga/Desktop/OIM7502_F25\n"
     ]
    }
   ],
   "source": [
    "import os\n",
    "\n",
    "cwd = os.getcwd()\n",
    "\n",
    "print(cwd)\n",
    "\n",
    "\n"
   ]
  },
  {
   "cell_type": "markdown",
   "id": "fc43ec50",
   "metadata": {},
   "source": [
    "#### 6. Use Python to determine how many days until New Year's Day"
   ]
  },
  {
   "cell_type": "code",
   "execution_count": 27,
   "id": "13f630fe",
   "metadata": {},
   "outputs": [
    {
     "name": "stdout",
     "output_type": "stream",
     "text": [
      "109 days, 0:00:00\n"
     ]
    }
   ],
   "source": [
    "import datetime\n",
    "\n",
    "today = datetime.date.today()\n",
    "new_year = datetime.date(2026,1,1)\n",
    "\n",
    "days_until_NYD = new_year - today\n",
    "print(days_until_NYD)"
   ]
  },
  {
   "cell_type": "markdown",
   "id": "2ba4ea92",
   "metadata": {},
   "source": [
    "#### 7. Write a short program that displays the future value of 1,000 earning 5%  at the end of each year for the next 5 years"
   ]
  },
  {
   "cell_type": "code",
   "execution_count": 71,
   "id": "6fef4a8c",
   "metadata": {},
   "outputs": [
    {
     "name": "stdout",
     "output_type": "stream",
     "text": [
      "Year 1 : 1050.0\n",
      "Year 2 : 1102.5\n",
      "Year 3 : 1157.63\n",
      "Year 4 : 1215.51\n",
      "Year 5 : 1276.28\n"
     ]
    }
   ],
   "source": [
    "# Formula FV = PV(1+r)^t\n",
    "\n",
    "\n",
    "\n",
    "PV = 1000\n",
    "r = 0.05\n",
    "years = 5\n",
    "\n",
    "for t in range (1,6):\n",
    "    FV = PV*(1+r)**t\n",
    "    print(\"Year\", t, \":\", round(FV, 2))\n",
    "\n",
    "\n",
    "\n"
   ]
  },
  {
   "cell_type": "markdown",
   "id": "150201c8",
   "metadata": {},
   "source": [
    "#### 8. Write a short program that prompts a user to enter a stock symbol and press enter. Add each symbol entered to a variable. The program should run until the user presses the enter key without entering anything (empty string) "
   ]
  },
  {
   "cell_type": "code",
   "execution_count": 75,
   "id": "931a346f",
   "metadata": {},
   "outputs": [
    {
     "name": "stdin",
     "output_type": "stream",
     "text": [
      "Enter stock symbol or press Enter to quit:  sdsf\n",
      "Enter stock symbol or press Enter to quit:  sdfrtwg\n",
      "Enter stock symbol or press Enter to quit:  \n"
     ]
    },
    {
     "name": "stdout",
     "output_type": "stream",
     "text": [
      "You entered: ['sdsf', 'sdfrtwg']\n"
     ]
    }
   ],
   "source": [
    "stocks = [] #empty list to sve what the user enters\n",
    "\n",
    "while True: #infinite loop\n",
    "    symbol = input(\"Enter stock symbol or press Enter to quit: \")\n",
    "    if symbol == \"\":\n",
    "        break\n",
    "    stocks.append(symbol) # add to stocks list the symbols that the user is entering\n",
    "\n",
    "print(\"You entered:\", stocks)\n"
   ]
  },
  {
   "cell_type": "markdown",
   "id": "fc2a7592",
   "metadata": {},
   "source": [
    "#### 9. Write the code necessary to calculate the sum of the square differences of a group of values : \n",
    "58, 32, 37, 41, 36, 36, 54, 37, 25, 53\n",
    "##### $\\Sigma $(${x}$ - $\\bar{x}$)$^2$"
   ]
  },
  {
   "cell_type": "code",
   "execution_count": 89,
   "id": "13d9a6c5",
   "metadata": {},
   "outputs": [
    {
     "name": "stdout",
     "output_type": "stream",
     "text": [
      "Sum of square difderences of the previous group of values is : 1020.9\n"
     ]
    }
   ],
   "source": [
    "import statistics\n",
    "\n",
    "numbers = [58, 32, 37, 41, 36, 36, 54, 37, 25, 53]\n",
    "avg_x = statistics.mean(numbers)\n",
    "\n",
    "sq_diff = []\n",
    "\n",
    "for x in numbers: \n",
    "    sq_diff.append((x-avg_x)**2) # so far I have only the sq of (x-avg_x). Missing the sum!\n",
    "\n",
    "result = sum(sq_diff)\n",
    "print( \"Sum of square difderences of the previous group of values is\", \":\", result)\n",
    "\n",
    "\n",
    "    "
   ]
  },
  {
   "cell_type": "markdown",
   "id": "6d6f2e64",
   "metadata": {},
   "source": [
    "#### 10. Opening, reading and writing files"
   ]
  },
  {
   "cell_type": "code",
   "execution_count": 124,
   "id": "f7fa569d",
   "metadata": {},
   "outputs": [
    {
     "name": "stdout",
     "output_type": "stream",
     "text": [
      "Hello professor!, this is the first line of code of the first assignment\n"
     ]
    }
   ],
   "source": [
    "#Creating and Opening files \n",
    "\n",
    "with open(\"draft.doc\",\"w\") as file:\n",
    "    file.write(\"Hello professor!, this is the first line of code\")\n",
    "\n",
    "#To read files\n",
    "\n",
    "with open(\"draft.doc\",\"r\") as file:\n",
    "    content = file.read()\n",
    "\n",
    "#Writing files\n",
    "with open(\"draft.doc\",\"a\") as file:\n",
    "    file.write(\" of the first assignment\")\n",
    "\n",
    "#Read what's added (additional) \n",
    "with open(\"draft.doc\",\"r\") as file:\n",
    "    content = file.read()\n",
    "    print(content)\n",
    "    \n"
   ]
  },
  {
   "cell_type": "markdown",
   "id": "eec548d6",
   "metadata": {},
   "source": [
    "#### 11. Create a function the will simulate rolling two die and return the value of each and and the sum "
   ]
  },
  {
   "cell_type": "code",
   "execution_count": 146,
   "id": "bb115cdc",
   "metadata": {},
   "outputs": [
    {
     "name": "stdout",
     "output_type": "stream",
     "text": [
      "Die 1: 2\n",
      "Die 2: 5\n",
      "Sum of dice: 7\n"
     ]
    }
   ],
   "source": [
    "import random\n",
    "\n",
    "die1 = random.choice(range(1,7))\n",
    "die2 = random.choice(range(1,7))\n",
    "\n",
    "sum_of_dice = die1 + die2\n",
    "\n",
    "print(\"Die 1:\",die1)\n",
    "print(\"Die 2:\",die2)\n",
    "print(\"Sum of dice:\",sum_of_dice)\n"
   ]
  },
  {
   "cell_type": "markdown",
   "id": "21556d7f",
   "metadata": {},
   "source": [
    "#### 12. Write the code needed to evaluate whether a value in a group of values is negative or postive and prints an approriate message, i.e. postive, negative \n",
    "-1.59, 2.36, 1.69, 1.13, -0.91, 1.48, -0.34, 1.31, -0.74, 0.2"
   ]
  },
  {
   "cell_type": "code",
   "execution_count": 150,
   "id": "d6c38ecb",
   "metadata": {},
   "outputs": [
    {
     "name": "stdout",
     "output_type": "stream",
     "text": [
      "-1.59 Is negative\n",
      "2.36 Is positive\n",
      "1.69 Is positive\n",
      "1.13 Is positive\n",
      "-0.91 Is negative\n",
      "1.48 Is positive\n",
      "-0.34 Is negative\n",
      "1.31 Is positive\n",
      "-0.74 Is negative\n",
      "0.2 Is positive\n"
     ]
    }
   ],
   "source": [
    "group = [-1.59, 2.36, 1.69, 1.13, -0.91, 1.48, -0.34, 1.31, -0.74, 0.2]\n",
    "\n",
    "for value in group:\n",
    "    if value > 0:\n",
    "        print(value, \"Is positive\")\n",
    "    else:\n",
    "        print(value, \"Is negative\")\n",
    "    \n",
    "\n"
   ]
  },
  {
   "cell_type": "code",
   "execution_count": null,
   "id": "aaefba17",
   "metadata": {},
   "outputs": [],
   "source": []
  },
  {
   "cell_type": "markdown",
   "id": "8cafe65c",
   "metadata": {},
   "source": [
    "#### 14.  Complete the following:\n",
    "1. Write a program that generates 500 random integers from 1 to n, for example, the first integer will be 1 the second will be 1 or 2, the fifth between 1 and 5, and so on.\n",
    "2. The program should write each integer to a file \n",
    "3. Once all integers are written close the file\n",
    "\n",
    "##### Part 2\n",
    "1. Open and read the file into a list\n",
    "2. Create a line plot of the data"
   ]
  },
  {
   "cell_type": "code",
   "execution_count": 166,
   "id": "60a910bb",
   "metadata": {},
   "outputs": [],
   "source": [
    "#part 1\n",
    "\n",
    "import random\n",
    "\n",
    "with open(\"random_numbers.doc\",\"w\") as file: #1.\n",
    "    for n in range(1, 501): #1.\n",
    "        num = random.randint(1, n) #1.\n",
    "        file.write(str(num) + \"\\n\") #2.\n",
    "\n",
    "file.close() #3."
   ]
  },
  {
   "cell_type": "code",
   "execution_count": 172,
   "id": "d6b4180c",
   "metadata": {},
   "outputs": [],
   "source": [
    "#part 2.1\n",
    "numbers = []\n",
    "\n",
    "with open(\"random_numbers.doc\",\"r\") as file:\n",
    "    for line in file:\n",
    "        numbers.append(int(line))"
   ]
  },
  {
   "cell_type": "code",
   "execution_count": 180,
   "id": "adb6aa11",
   "metadata": {},
   "outputs": [
    {
     "data": {
      "image/png": "[encoded data removed]",
      "text/plain": [
       "<Figure size 640x480 with 1 Axes>"
      ]
     },
     "metadata": {},
     "output_type": "display_data"
    }
   ],
   "source": [
    "#part 2.2\n",
    "import matplotlib.pyplot as plt\n",
    "\n",
    "plt.plot(numbers)\n",
    "plt.title(\"Line plot of random numbers\")\n",
    "plt.xlabel(\"Index (1 to 500)\")\n",
    "plt.ylabel(\"Random value\")\n",
    "plt.show()"
   ]
  },
  {
   "cell_type": "code",
   "execution_count": null,
   "id": "6745da79",
   "metadata": {},
   "outputs": [],
   "source": []
  },
  {
   "cell_type": "code",
   "execution_count": null,
   "id": "21140445",
   "metadata": {},
   "outputs": [],
   "source": []
  },
  {
   "cell_type": "code",
   "execution_count": null,
   "id": "3d546600",
   "metadata": {},
   "outputs": [],
   "source": []
  }
 ],
 "metadata": {
  "kernelspec": {
   "display_name": "Python [conda env:base] *",
   "language": "python",
   "name": "conda-base-py"
  },
  "language_info": {
   "codemirror_mode": {
    "name": "ipython",
    "version": 3
   },
   "file_extension": ".py",
   "mimetype": "text/x-python",
   "name": "python",
   "nbconvert_exporter": "python",
   "pygments_lexer": "ipython3",
   "version": "3.12.7"
  }
 },
 "nbformat": 4,
 "nbformat_minor": 5
}
